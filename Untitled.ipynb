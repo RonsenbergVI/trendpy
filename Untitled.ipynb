{
 "cells": [
  {
   "cell_type": "code",
   "execution_count": 1,
   "metadata": {
    "collapsed": true
   },
   "outputs": [],
   "source": [
    "from trendpy import filter, _tosequence\n",
    "from pandas import read_csv"
   ]
  },
  {
   "cell_type": "code",
   "execution_count": 2,
   "metadata": {
    "collapsed": true
   },
   "outputs": [],
   "source": [
    "filename='example/data.csv'"
   ]
  },
  {
   "cell_type": "code",
   "execution_count": 3,
   "metadata": {
    "collapsed": true
   },
   "outputs": [],
   "source": [
    "data = read_csv(filename)"
   ]
  },
  {
   "cell_type": "code",
   "execution_count": null,
   "metadata": {},
   "outputs": [
    {
     "name": "stdout",
     "output_type": "stream",
     "text": [
      "== step 1 ==\n",
      "== parameter trend ==\n",
      "== parameter sigma2 ==\n",
      "== parameter lambda2 ==\n",
      "== parameter omega ==\n",
      "== step 2 ==\n",
      "== parameter trend ==\n"
     ]
    },
    {
     "name": "stderr",
     "output_type": "stream",
     "text": [
      "/usr/local/lib/python3.6/site-packages/scipy/stats/_multivariate.py:535: RuntimeWarning: covariance is not positive-semidefinite.\n",
      "  out = random_state.multivariate_normal(mean, cov, size)\n",
      "/Users/corneillerj/Documents/GitHub/trendpy/trendpy/samplers.py:344: RuntimeWarning: divide by zero encountered in double_scalars\n",
      "  return array([1/distribution.rvs(parameters['pos'][i],loc=parameters['loc'],scale=parameters['scale']) for i in range(len(self.parameters.list['omega'].current_value))]).reshape(self.parameters.list['omega'].current_value.shape)\n"
     ]
    },
    {
     "name": "stdout",
     "output_type": "stream",
     "text": [
      "== parameter sigma2 ==\n",
      "== parameter lambda2 ==\n",
      "== parameter omega ==\n",
      "== step 3 ==\n",
      "== parameter trend ==\n",
      "== parameter sigma2 ==\n",
      "== parameter lambda2 ==\n",
      "== parameter omega ==\n",
      "== step 4 ==\n",
      "== parameter trend ==\n",
      "== parameter sigma2 ==\n",
      "== parameter lambda2 ==\n",
      "== parameter omega ==\n",
      "== step 5 ==\n",
      "== parameter trend ==\n",
      "== parameter sigma2 ==\n",
      "== parameter lambda2 ==\n",
      "== parameter omega ==\n",
      "== step 6 ==\n",
      "== parameter trend ==\n",
      "== parameter sigma2 ==\n",
      "== parameter lambda2 ==\n",
      "== parameter omega ==\n",
      "== step 7 ==\n",
      "== parameter trend ==\n",
      "== parameter sigma2 ==\n",
      "== parameter lambda2 ==\n",
      "== parameter omega ==\n",
      "== step 8 ==\n",
      "== parameter trend ==\n",
      "== parameter sigma2 ==\n",
      "== parameter lambda2 ==\n",
      "== parameter omega ==\n",
      "== step 9 ==\n",
      "== parameter trend ==\n",
      "== parameter sigma2 ==\n",
      "== parameter lambda2 ==\n",
      "== parameter omega ==\n",
      "== step 10 ==\n",
      "== parameter trend ==\n",
      "== parameter sigma2 ==\n",
      "== parameter lambda2 ==\n",
      "== parameter omega ==\n",
      "== step 11 ==\n",
      "== parameter trend ==\n",
      "== parameter sigma2 ==\n",
      "== parameter lambda2 ==\n",
      "== parameter omega ==\n",
      "== step 12 ==\n",
      "== parameter trend ==\n",
      "== parameter sigma2 ==\n",
      "== parameter lambda2 ==\n",
      "== parameter omega ==\n",
      "== step 13 ==\n",
      "== parameter trend ==\n",
      "== parameter sigma2 ==\n",
      "== parameter lambda2 ==\n",
      "== parameter omega ==\n",
      "== step 14 ==\n",
      "== parameter trend ==\n",
      "== parameter sigma2 ==\n",
      "== parameter lambda2 ==\n",
      "== parameter omega ==\n",
      "== step 15 ==\n",
      "== parameter trend ==\n",
      "== parameter sigma2 ==\n",
      "== parameter lambda2 ==\n",
      "== parameter omega ==\n",
      "== step 16 ==\n",
      "== parameter trend ==\n",
      "== parameter sigma2 ==\n",
      "== parameter lambda2 ==\n",
      "== parameter omega ==\n",
      "== step 17 ==\n",
      "== parameter trend ==\n"
     ]
    }
   ],
   "source": [
    "x = filter(data['time series'],verbose=0)"
   ]
  },
  {
   "cell_type": "code",
   "execution_count": null,
   "metadata": {
    "collapsed": true
   },
   "outputs": [],
   "source": []
  }
 ],
 "metadata": {
  "kernelspec": {
   "display_name": "Python 3",
   "language": "python",
   "name": "python3"
  },
  "language_info": {
   "codemirror_mode": {
    "name": "ipython",
    "version": 3
   },
   "file_extension": ".py",
   "mimetype": "text/x-python",
   "name": "python",
   "nbconvert_exporter": "python",
   "pygments_lexer": "ipython3",
   "version": "3.6.5"
  }
 },
 "nbformat": 4,
 "nbformat_minor": 2
}
